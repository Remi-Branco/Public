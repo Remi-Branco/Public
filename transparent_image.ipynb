{
  "nbformat": 4,
  "nbformat_minor": 0,
  "metadata": {
    "colab": {
      "name": "transparent image.ipynb",
      "provenance": [],
      "collapsed_sections": [],
      "toc_visible": true,
      "authorship_tag": "ABX9TyPzuXaj3IYfQHKx35wYslpX",
      "include_colab_link": true
    },
    "kernelspec": {
      "name": "python3",
      "display_name": "Python 3"
    }
  },
  "cells": [
    {
      "cell_type": "markdown",
      "metadata": {
        "id": "view-in-github",
        "colab_type": "text"
      },
      "source": [
        "<a href=\"https://colab.research.google.com/github/Remi-Branco/Public/blob/master/transparent_image.ipynb\" target=\"_parent\"><img src=\"https://colab.research.google.com/assets/colab-badge.svg\" alt=\"Open In Colab\"/></a>"
      ]
    },
    {
      "cell_type": "code",
      "metadata": {
        "id": "ll_EPbvYfJOr",
        "colab_type": "code",
        "colab": {}
      },
      "source": [
        "from PIL import Image\n"
      ],
      "execution_count": 0,
      "outputs": []
    },
    {
      "cell_type": "code",
      "metadata": {
        "id": "TRao174hfSzX",
        "colab_type": "code",
        "outputId": "37040670-524c-4415-efd4-0b993f1a2138",
        "colab": {
          "base_uri": "https://localhost:8080/",
          "height": 36
        }
      },
      "source": [
        "def convertToPNG():\n",
        "  img = Image.open('/content/reC1-Subcellular 21102015.lif - Image091-1.tif')\n",
        "  img = img.convert('RGBA')\n",
        "  datas = img.getdata()\n",
        "  newData =[]\n",
        "  for item in datas:\n",
        "    if item[0] <= 20 and item[1]<=20 and item[2] <=20:\n",
        "      newData.append((0,0,0,0))\n",
        "    else:\n",
        "      newData.append(item)\n",
        "\n",
        "  img.putdata(newData)\n",
        "  img.save('/content/TRANSPARENT-reC1-Subcellular 21102015.lif - Image091-1.png', 'PNG')\n",
        "  print(\"Done\")\n",
        "\n",
        "convertToPNG()\n",
        "\n"
      ],
      "execution_count": 0,
      "outputs": [
        {
          "output_type": "stream",
          "text": [
            "Done\n"
          ],
          "name": "stdout"
        }
      ]
    },
    {
      "cell_type": "code",
      "metadata": {
        "id": "o_3ljyARiAgj",
        "colab_type": "code",
        "colab": {}
      },
      "source": [
        ""
      ],
      "execution_count": 0,
      "outputs": []
    }
  ]
}