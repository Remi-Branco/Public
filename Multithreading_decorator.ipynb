{
  "nbformat": 4,
  "nbformat_minor": 0,
  "metadata": {
    "colab": {
      "name": "Multithreading decorator.ipynb",
      "provenance": [],
      "collapsed_sections": [],
      "authorship_tag": "ABX9TyNWvkn4MJXGxilumMHE3Qc7",
      "include_colab_link": true
    },
    "kernelspec": {
      "name": "python3",
      "display_name": "Python 3"
    },
    "language_info": {
      "name": "python"
    }
  },
  "cells": [
    {
      "cell_type": "markdown",
      "metadata": {
        "id": "view-in-github",
        "colab_type": "text"
      },
      "source": [
        "<a href=\"https://colab.research.google.com/github/Remi-Branco/Public/blob/master/Multithreading_decorator.ipynb\" target=\"_parent\"><img src=\"https://colab.research.google.com/assets/colab-badge.svg\" alt=\"Open In Colab\"/></a>"
      ]
    },
    {
      "cell_type": "markdown",
      "metadata": {
        "id": "sNKgddOuas87"
      },
      "source": [
        "##The multithreading decorator"
      ]
    },
    {
      "cell_type": "code",
      "metadata": {
        "id": "utYuUqSKyovm"
      },
      "source": [
        "from functools import wraps\n",
        "import os\n",
        "\n",
        "def asynchronise(*args,**kwargs):\n",
        "    \"\"\"\n",
        "    This decorator lets you multithread any function by passing it the list you wish to MT\n",
        "    \"\"\"\n",
        "    \n",
        "    verbose = False\n",
        "    n_workers = None\n",
        "    variable_to_asynchronise = None \n",
        "\n",
        "    for k,v in enumerate(kwargs):\n",
        "        if v == \"n_workers\":\n",
        "            n_workers = kwargs[v]\n",
        "        elif v == \"verbose\":\n",
        "            verbose = kwargs[v]\n",
        "        else :\n",
        "            variable_to_asynchronise = kwargs[v]\n",
        "\n",
        "    if variable_to_asynchronise == None: #in case the variable was passed as an arg\n",
        "        variable_to_asynchronise =  args[0]\n",
        "\n",
        "    if n_workers == None:\n",
        "        n_workers = len(variable_to_asynchronise)\n",
        "\n",
        "    if verbose :\n",
        "        print(f\" Using {n_workers} workers\")\n",
        "        print(kwargs)\n",
        "        print(variable_to_asynchronise)\n",
        "    \n",
        "    def decorator(function_to_decorate):\n",
        "\n",
        "        @wraps(function_to_decorate)\n",
        "        def wrapper(*args,**kwargs):\n",
        "            result = []\n",
        "            with ThreadPoolExecutor(max_workers=n_workers) as e:\n",
        "                futures = {e.submit(function_to_decorate,var,*args,**kwargs): var for var in variable_to_asynchronise}\n",
        "                for future in concurrent.futures.as_completed(futures):\n",
        "                    result.append(future.result())\n",
        "            return result    \n",
        "        return wrapper\n",
        "    return decorator\n"
      ],
      "execution_count": null,
      "outputs": []
    },
    {
      "cell_type": "code",
      "metadata": {
        "colab": {
          "base_uri": "https://localhost:8080/"
        },
        "id": "ZaKQw3M7UdXK",
        "outputId": "8271586c-3633-4e91-dddc-c7e0b526325c"
      },
      "source": [
        "%%time\n",
        "\n",
        "#let's decorate a function\n",
        "to_async = [1,2,1,1,1,1,1,1,1,1,1,1,1,1,1,1,2]\n",
        "\n",
        "\n",
        "@asynchronise(to_async)\n",
        "def waiting_function(t,call): #**kwargs was added to allow for any number of parameters to be passed\n",
        "    \"\"\"\n",
        "    function that sleeps for t seconds, call is here to illustrate how to send arguments to the function\n",
        "    \"\"\" \n",
        "    ##do stuff here\n",
        "    time.sleep(t)\n",
        "    ##do more stuff\n",
        "    return t\n",
        "\n",
        "results = waiting_function(call=\"Test\" )\n",
        "print(results)"
      ],
      "execution_count": null,
      "outputs": [
        {
          "output_type": "stream",
          "text": [
            "[1, 1, 1, 1, 1, 1, 1, 1, 1, 1, 1, 1, 1, 1, 1, 2, 2]\n",
            "CPU times: user 16.5 ms, sys: 1.31 ms, total: 17.8 ms\n",
            "Wall time: 2.01 s\n"
          ],
          "name": "stdout"
        }
      ]
    },
    {
      "cell_type": "markdown",
      "metadata": {
        "id": "VUs9ZbaBfr3B"
      },
      "source": [
        "more parameters can be passed:\n",
        "*  verbose\n",
        "* n_workers\n",
        "\n"
      ]
    },
    {
      "cell_type": "code",
      "metadata": {
        "colab": {
          "base_uri": "https://localhost:8080/"
        },
        "id": "dcEta_d6gIE2",
        "outputId": "28286635-100e-4184-ba97-33729e685165"
      },
      "source": [
        "%%time\n",
        "@asynchronise(to_async, n_workers=4)\n",
        "def waiting_function(t,call): #**kwargs was added to allow for any number of parameters to be passed\n",
        "    \"\"\"\n",
        "    function that sleeps for t seconds, call is here to illustrate how to send arguments to the function\n",
        "    \"\"\" \n",
        "    ##do stuff here\n",
        "    time.sleep(t)\n",
        "    ##do more stuff\n",
        "    return t\n",
        "\n",
        "results = waiting_function(call=\"Test\" )\n",
        "print(results)"
      ],
      "execution_count": null,
      "outputs": [
        {
          "output_type": "stream",
          "text": [
            "[1, 1, 1, 1, 1, 2, 1, 1, 1, 1, 1, 1, 1, 1, 1, 1, 2]\n",
            "CPU times: user 36 ms, sys: 0 ns, total: 36 ms\n",
            "Wall time: 6.01 s\n"
          ],
          "name": "stdout"
        }
      ]
    }
  ]
}