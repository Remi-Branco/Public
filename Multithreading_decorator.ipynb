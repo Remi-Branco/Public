{
  "nbformat": 4,
  "nbformat_minor": 0,
  "metadata": {
    "colab": {
      "name": "Multithreading decorator.ipynb",
      "provenance": [],
      "collapsed_sections": [],
      "authorship_tag": "ABX9TyP1KFBR8FyBg9SREYnwfwH4",
      "include_colab_link": true
    },
    "kernelspec": {
      "name": "python3",
      "display_name": "Python 3"
    },
    "language_info": {
      "name": "python"
    }
  },
  "cells": [
    {
      "cell_type": "markdown",
      "metadata": {
        "id": "view-in-github",
        "colab_type": "text"
      },
      "source": [
        "<a href=\"https://colab.research.google.com/github/Remi-Branco/Public/blob/master/Multithreading_decorator.ipynb\" target=\"_parent\"><img src=\"https://colab.research.google.com/assets/colab-badge.svg\" alt=\"Open In Colab\"/></a>"
      ]
    },
    {
      "cell_type": "markdown",
      "metadata": {
        "id": "sNKgddOuas87"
      },
      "source": [
        "##The multithreading decorator"
      ]
    },
    {
      "cell_type": "markdown",
      "metadata": {
        "id": "Nur3KKM9qhLG"
      },
      "source": [
        "This article can be found on my website at this address https://remibranco.com/?p=178"
      ]
    },
    {
      "cell_type": "code",
      "metadata": {
        "id": "utYuUqSKyovm"
      },
      "source": [
        "from functools import wraps\n",
        "import os\n",
        "import concurrent.futures \n",
        "\n",
        "def asynchronised(*args,**kwargs):\n",
        "    \"\"\"\n",
        "    lets you multithread any function by passing it a list you want to multithread.\n",
        "    \"\"\"\n",
        "    \n",
        "    verbose = False\n",
        "    n_workers = None\n",
        "    variable_to_asynchronise = None \n",
        "\n",
        "    for k,v in enumerate(kwargs):\n",
        "        if v == \"n_workers\":\n",
        "            n_workers = kwargs[v]\n",
        "        elif v == \"verbose\":\n",
        "            verbose = kwargs[v]\n",
        "        else :\n",
        "            variable_to_asynchronise = kwargs[v]\n",
        "\n",
        "    if variable_to_asynchronise == None: #if the variable was passed as an arg\n",
        "        variable_to_asynchronise =  args[0]\n",
        "\n",
        "    if n_workers == None:\n",
        "        n_workers = len(variable_to_asynchronise)\n",
        "\n",
        "    if verbose :\n",
        "        print(f\" Using {n_workers} workers\")\n",
        "        print(kwargs)\n",
        "        print(variable_to_asynchronise)\n",
        "    \n",
        "    def decorator(function_to_decorate):\n",
        "\n",
        "        @wraps(function_to_decorate)\n",
        "        def wrapper(*args,**kwargs):\n",
        "            result = []\n",
        "            with concurrent.futures.ThreadPoolExecutor(max_workers=n_workers) as e:\n",
        "                futures = {e.submit(function_to_decorate,var,*args,**kwargs): var for var in variable_to_asynchronise}\n",
        "                for future in concurrent.futures.as_completed(futures):\n",
        "                    result.append(future.result())\n",
        "            return result    \n",
        "        return wrapper\n",
        "    return decorator"
      ],
      "execution_count": null,
      "outputs": []
    },
    {
      "cell_type": "code",
      "metadata": {
        "id": "gbdcawc3lysJ"
      },
      "source": [
        "import random\n",
        "import time"
      ],
      "execution_count": null,
      "outputs": []
    },
    {
      "cell_type": "code",
      "metadata": {
        "colab": {
          "base_uri": "https://localhost:8080/"
        },
        "id": "ZaKQw3M7UdXK",
        "outputId": "4a3d2bbf-a32d-4504-8043-cbe913bd3fca"
      },
      "source": [
        "%%time\n",
        "\n",
        "# a list of random integers \n",
        "to_async = [random.randint(1,4) for i in range(40)]\n",
        "\n",
        "\n",
        "@asynchronised(to_async)\n",
        "def waiting_function(t,parameter1,parameter2):\n",
        "    \"\"\"\n",
        "    function that sleeps for t seconds and returns t\n",
        "    \"\"\" \n",
        "    ##do stuff here\n",
        "    string = parameter1 + \", \" + str(t) + \", \" + parameter2 #some operation with parameter1 & 2\n",
        "    time.sleep(t)\n",
        "    ##do more stuff\n",
        "    return t\n",
        "\n",
        "results = waiting_function(parameter1=\"something\", parameter2 = \"something else\" )\n",
        "print(results)"
      ],
      "execution_count": null,
      "outputs": [
        {
          "output_type": "stream",
          "text": [
            "[1, 1, 1, 1, 1, 1, 1, 1, 2, 2, 2, 2, 2, 2, 2, 2, 2, 2, 2, 2, 2, 2, 2, 3, 3, 3, 3, 3, 3, 3, 3, 4, 4, 4, 4, 4, 4, 4, 4, 4]\n",
            "CPU times: user 27.5 ms, sys: 13.5 ms, total: 40.9 ms\n",
            "Wall time: 4.02 s\n"
          ],
          "name": "stdout"
        }
      ]
    },
    {
      "cell_type": "markdown",
      "metadata": {
        "id": "VUs9ZbaBfr3B"
      },
      "source": [
        "more parameters can be passed:\n",
        "*  verbose : display the number of workers and parameters passed to the function\n",
        "* n_workers : maximum number of workers (i.e. threads), by default the number of elements in the list passed to the decorator\n",
        "\n"
      ]
    },
    {
      "cell_type": "code",
      "metadata": {
        "colab": {
          "base_uri": "https://localhost:8080/"
        },
        "id": "dcEta_d6gIE2",
        "outputId": "afe3a4bf-9aab-4020-c1f2-cb1facf3ff79"
      },
      "source": [
        "%%time\n",
        "\n",
        "# another list of random integers\n",
        "another_list = [random.randint(1,4) for i in range(20)]\n",
        "\n",
        "print(\"Printed by verbose:\")\n",
        "\n",
        "@asynchronised(another_list, n_workers=8, verbose = True)  #<------ we set the maximum number of workers to 8\n",
        "def waiting_function(t):\n",
        "    time.sleep(t)\n",
        "    return t\n",
        "\n",
        "\n",
        "results = waiting_function()\n",
        "print(\"\\nresults : \\n\",results)"
      ],
      "execution_count": null,
      "outputs": [
        {
          "output_type": "stream",
          "text": [
            "Printed by verbose:\n",
            " Using 8 workers\n",
            "{'n_workers': 8, 'verbose': True}\n",
            "[4, 3, 3, 1, 4, 4, 1, 3, 4, 1, 2, 3, 3, 1, 2, 1, 1, 2, 2, 4]\n",
            "\n",
            "results : \n",
            " [1, 1, 1, 3, 3, 3, 4, 4, 2, 4, 1, 4, 1, 1, 2, 3, 3, 2, 2, 4]\n",
            "CPU times: user 52.9 ms, sys: 5.55 ms, total: 58.4 ms\n",
            "Wall time: 9.01 s\n"
          ],
          "name": "stdout"
        }
      ]
    },
    {
      "cell_type": "markdown",
      "metadata": {
        "id": "CdVQ3f72qqC0"
      },
      "source": [
        "The variable to multithread can be named in the decorator to improve the code readability.  In the example below, we could replace \"variable_to_multithread\" by \"list_of_things _to_multithread\"."
      ]
    },
    {
      "cell_type": "code",
      "metadata": {
        "colab": {
          "base_uri": "https://localhost:8080/"
        },
        "id": "S5d-GvOmoQzh",
        "outputId": "10058738-34e6-4342-f45a-c02a2e6f2558"
      },
      "source": [
        "%%time\n",
        "\n",
        "# another list of random integers \n",
        "yet_another_list = [random.randint(1,4) for i in range(20)]\n",
        "\n",
        "@asynchronised(variable_to_multithread = yet_another_list, verbose=True)\n",
        "def waiting_function(t):\n",
        "    time.sleep(t)\n",
        "    return t\n",
        "\n",
        "waiting_function()\n",
        "\n",
        "\n",
        "print(\"\\nSame as above but changing the name of the 'yet_another_list' in the decorator to something that will improve code readability.\\n\")\n",
        "\n",
        "@asynchronised(WHATEVER_MAKES_MORE_SENSE = yet_another_list, verbose=True)  ##<----\n",
        "def waiting_function(t):\n",
        "    time.sleep(t)\n",
        "    return t\n",
        "\n",
        "\n",
        "waiting_function()\n"
      ],
      "execution_count": null,
      "outputs": [
        {
          "output_type": "stream",
          "text": [
            " Using 20 workers\n",
            "{'variable_to_multithread': [3, 2, 3, 1, 2, 2, 2, 4, 4, 3, 1, 4, 4, 4, 4, 1, 3, 2, 3, 2], 'verbose': True}\n",
            "[3, 2, 3, 1, 2, 2, 2, 4, 4, 3, 1, 4, 4, 4, 4, 1, 3, 2, 3, 2]\n",
            "\n",
            "Same as above but changing the name of the 'yet_another_list' in the decorator to something that will improve code readability.\n",
            "\n",
            " Using 20 workers\n",
            "{'WHATEVER_MAKES_MORE_SENSE': [3, 2, 3, 1, 2, 2, 2, 4, 4, 3, 1, 4, 4, 4, 4, 1, 3, 2, 3, 2], 'verbose': True}\n",
            "[3, 2, 3, 1, 2, 2, 2, 4, 4, 3, 1, 4, 4, 4, 4, 1, 3, 2, 3, 2]\n",
            "CPU times: user 56.5 ms, sys: 11.4 ms, total: 67.9 ms\n",
            "Wall time: 8.02 s\n"
          ],
          "name": "stdout"
        }
      ]
    }
  ]
}